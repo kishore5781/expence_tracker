{
 "cells": [
  {
   "cell_type": "code",
   "execution_count": 7,
   "id": "2a80aa8a-a4ce-4620-91de-18fa97511483",
   "metadata": {},
   "outputs": [
    {
     "name": "stdout",
     "output_type": "stream",
     "text": [
      "*** BUDGET TRACKING PROJECT ***\n",
      "\n",
      "1. Add Expense\n",
      "2. View Expenses\n",
      "3. Track Budget\n",
      "4. Exit\n"
     ]
    },
    {
     "name": "stdin",
     "output_type": "stream",
     "text": [
      "Choose an option:  3\n"
     ]
    },
    {
     "name": "stdout",
     "output_type": "stream",
     "text": [
      "\n",
      " *** Tracking budget *** \n",
      "\n"
     ]
    },
    {
     "name": "stdin",
     "output_type": "stream",
     "text": [
      "Enter your monthly budget:  1000\n"
     ]
    },
    {
     "name": "stdout",
     "output_type": "stream",
     "text": [
      "Total spent: $820.00\n",
      "Remaining: $180.00\n",
      "\n",
      "\n",
      "1. Add Expense\n",
      "2. View Expenses\n",
      "3. Track Budget\n",
      "4. Exit\n"
     ]
    },
    {
     "name": "stdin",
     "output_type": "stream",
     "text": [
      "Choose an option:  4\n"
     ]
    },
    {
     "name": "stdout",
     "output_type": "stream",
     "text": [
      "Exiting... Have a Nice Day\n"
     ]
    }
   ],
   "source": [
    "import os\n",
    "\n",
    "# add the expense\n",
    "def add_expense():\n",
    "    print('\\n *** Adding Expense *** \\n')\n",
    "    date = input('Enter date (YYYY-MM-DD) :')\n",
    "    category = input('Enter category (Food, Transport, Entertainment, etc. :' )\n",
    "    amount = float(input('Enter the expense amount :'))\n",
    "\n",
    "    save_expense(date, category, amount)\n",
    "\n",
    "#Save the expense    \n",
    "def save_expense(dt, cat, amt):\n",
    "    fp = open('expense.csv', 'a')\n",
    "    expense = dt + ',' + cat + ',' + str(amt) + '\\n'\n",
    "    fp.write(expense)\n",
    "    fp.close()\n",
    "    print('Expense added successfully')\n",
    "\n",
    "# view the expense\n",
    "def view_expense():\n",
    "    print('\\n *** Displaying all expenses *** \\n')\n",
    "    print('Date \\t\\t | Amount \\t\\t | Category')\n",
    "    print('-' * 100)\n",
    "    fp = open('expense.csv', 'r')\n",
    "    for line in fp:\n",
    "        date, category, amount = line.strip().split(',')\n",
    "        print(f'{date}\\t | {amount}\\t\\t | {category}')\n",
    "\n",
    "# track the budget\n",
    "def track_budget():\n",
    "    print('\\n *** Tracking budget *** \\n')\n",
    "    amt = 0.0\n",
    "    budget = float(input('Enter your monthly budget: '))\n",
    "    fp = open('expense.csv', 'r')\n",
    "    for line in fp:\n",
    "        date, category, amount = line.strip().split(',')\n",
    "        amt = amt + float(amount)\n",
    "    remaining_amt = budget - amt\n",
    "    print(f'Total spent: ${amt:.2f}')\n",
    "    print(f'Remaining: ${remaining_amt:.2f}\\n')\n",
    "\n",
    "def main():\n",
    "\n",
    "    print('*** BUDGET TRACKING PROJECT ***')\n",
    "    \n",
    "    while True:\n",
    "        print()\n",
    "        print('1. Add Expense')\n",
    "        print('2. View Expenses')\n",
    "        print('3. Track Budget')\n",
    "        print('4. Exit')\n",
    "\n",
    "        choice = int(input('Choose an option: '))\n",
    "\n",
    "        if choice == 1:\n",
    "            add_expense()\n",
    "        elif choice == 2:\n",
    "            view_expense()\n",
    "        elif choice == 3:\n",
    "            track_budget()\n",
    "        elif choice == 4:\n",
    "            print('Exiting... Have a Nice Day')\n",
    "            break\n",
    "        else:\n",
    "            print('Invalid choice - try again')\n",
    "\n",
    "main()"
   ]
  },
  {
   "cell_type": "code",
   "execution_count": null,
   "id": "e6e3ee06-55e1-48af-878d-78332e56277d",
   "metadata": {},
   "outputs": [],
   "source": []
  }
 ],
 "metadata": {
  "kernelspec": {
   "display_name": "Python 3 (ipykernel)",
   "language": "python",
   "name": "python3"
  },
  "language_info": {
   "codemirror_mode": {
    "name": "ipython",
    "version": 3
   },
   "file_extension": ".py",
   "mimetype": "text/x-python",
   "name": "python",
   "nbconvert_exporter": "python",
   "pygments_lexer": "ipython3",
   "version": "3.13.5"
  }
 },
 "nbformat": 4,
 "nbformat_minor": 5
}
